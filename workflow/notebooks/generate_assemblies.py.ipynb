{
 "cells": [
  {
   "cell_type": "markdown",
   "id": "7fd5a52c",
   "metadata": {},
   "outputs": [],
   "source": [
    "# Setup"
   ]
  },
  {
   "cell_type": "code",
   "execution_count": 2,
   "id": "b79e428a",
   "metadata": {},
   "outputs": [],
   "source": [
    "# Load required modules\n",
    "import glob\n",
    "import pandas as pd\n",
    "from IPython.display import display, Image\n",
    "from Bio import SeqIO"
   ]
  },
  {
   "cell_type": "markdown",
   "id": "925ca6fd",
   "metadata": {},
   "outputs": [],
   "source": [
    "## Parse Snakemake inputs and outputs"
   ]
  },
  {
   "cell_type": "code",
   "execution_count": 3,
   "id": "3795f012",
   "metadata": {},
   "outputs": [],
   "source": [
    "# Revised haplotype Fastas\n",
    "occ1_fasta = snakemake.input[0]\n",
    "occ2_fasta = snakemake.input[1]\n",
    "pall1_fasta = snakemake.input[2]\n",
    "pall2_fasta = snakemake.input[3]\n",
    "\n",
    "# TrR v5 to v6 chromosome mapping\n",
    "chromosome_mapping_path = snakemake.input[4]\n",
    "\n",
    "# DF with chromosomes to reverse complement\n",
    "chrs_toRevComp = snakemake.input[5]\n",
    "\n",
    "# PAF file for Occ1\n",
    "occ1_paf = snakemake.input[6]\n",
    "\n",
    "# Output\n",
    "haploid_reference = snakemake.output[0]"
   ]
  },
  {
   "cell_type": "markdown",
   "id": "6dd30865",
   "metadata": {},
   "outputs": [],
   "source": [
    "## Functions"
   ]
  },
  {
   "cell_type": "code",
   "execution_count": 4,
   "id": "ddad4068",
   "metadata": {},
   "outputs": [],
   "source": [
    "# Filters haplotype fasta for scaffold to keep and returns dictionary with record ID a key and sequence as value\n",
    "def get_chromosomal_scaffolds(hap_fasta, chromosomes_df, sg, hap):\n",
    "    \n",
    "    scaffolds_to_keep_df = TrR_v6_chromosomes[(TrR_v6_chromosomes['subgenome'] == sg) & \n",
    "                                           (TrR_v6_chromosomes['haplotype'] == hap)]\n",
    "    scaffolds_to_keep_dict = scaffolds_to_keep_df.set_index('original_scaffold_name')['TrR_v6_chromosome_name'].to_dict()\n",
    "    \n",
    "    chromosome_records = {}\n",
    "    for record in SeqIO.parse(hap_fasta, 'fasta'):\n",
    "        if record.id in scaffolds_to_keep_dict.keys():\n",
    "            new_chromosome_name = scaffolds_to_keep_dict[record.id]\n",
    "            chromosome_records[new_chromosome_name] = record.seq\n",
    "    return(chromosome_records)\n",
    "\n",
    "# Reverse complements sequences to match TrR_v5 assembly (if necessary) and returns new dictionary\n",
    "def reverse_compliment(chromosomal_records):\n",
    "    \n",
    "    all_chromosomal_records_revComp = {}\n",
    "    for chrom, seq in chromosomal_records.items():\n",
    "        if chrom in to_reverse_complement:\n",
    "            all_chromosomal_records_revComp[chrom] = seq.reverse_complement()\n",
    "        else:\n",
    "            all_chromosomal_records_revComp[chrom] = seq\n",
    "    \n",
    "    return(all_chromosomal_records_revComp)\n",
    "\n",
    "# Retrieve plastid and mito sequences\n",
    "def get_organellar_scaffolds(hap_fasta, organelle_name, new_name):\n",
    "    \n",
    "    organellar_record = {}\n",
    "    for record in SeqIO.parse(hap_fasta, 'fasta'):\n",
    "        if record.id == organelle_name:\n",
    "            organellar_record[new_name] = record.seq\n",
    "    return(organellar_record)"
   ]
  },
  {
   "cell_type": "markdown",
   "id": "62e74ca8",
   "metadata": {},
   "outputs": [],
   "source": [
    "# Haploid reference assembly\n",
    "\n",
    "## Step 1: Get chromosomal scaffold sequences"
   ]
  },
  {
   "cell_type": "code",
   "execution_count": 5,
   "id": "83009b58",
   "metadata": {},
   "outputs": [],
   "source": [
    "# Load CSV file with chromosomes to keep and mapping to new names\n",
    "TrR_v6_chromosomes = pd.read_csv(chromosome_mapping_path, delimiter=',')\n",
    "TrR_v6_chromosomes.head()"
   ]
  },
  {
   "cell_type": "code",
   "execution_count": 6,
   "id": "d0e99227",
   "metadata": {},
   "outputs": [],
   "source": [
    "# Get correct records from each haplotype.\n",
    "occ1_chromosomal_records = get_chromosomal_scaffolds(occ1_fasta, TrR_v6_chromosomes, sg = 'Occ', hap = 'One')\n",
    "occ2_chromosomal_records = get_chromosomal_scaffolds(occ2_fasta, TrR_v6_chromosomes, sg = 'Occ', hap = 'Two')\n",
    "pall1_chromosomal_records = get_chromosomal_scaffolds(pall1_fasta, TrR_v6_chromosomes, sg = 'Pall', hap = 'One')\n",
    "pall2_chromosomal_records = get_chromosomal_scaffolds(pall2_fasta, TrR_v6_chromosomes, sg = 'Pall', hap = 'Two')\n",
    "\n",
    "# Merge dictionaries\n",
    "all_chromosomal_records = occ1_chromosomal_records | occ2_chromosomal_records | pall1_chromosomal_records | pall2_chromosomal_records\n",
    "all_chromosomal_records"
   ]
  },
  {
   "cell_type": "markdown",
   "id": "62012745",
   "metadata": {},
   "outputs": [],
   "source": [
    "## Step 2: Reverse compliment and reorder"
   ]
  },
  {
   "cell_type": "code",
   "execution_count": 7,
   "id": "2132fcc5",
   "metadata": {},
   "outputs": [],
   "source": [
    "# Chromosomes that need to be reverse complement to match orientation of Griffiths et al. TrR_v5 genome\n",
    "# Determined by mapping scaffolds against the griffiths genome using minimap2 and looking for a negative correlation in the alignment positions\n",
    "to_reverse_complement = pd.read_csv(chrs_toRevComp, delimiter=',')['TrR_v6_chromosome_name'].tolist()\n",
    "all_chromosomal_records_revComp = reverse_compliment(all_chromosomal_records)"
   ]
  },
  {
   "cell_type": "code",
   "execution_count": 8,
   "id": "230b77fb",
   "metadata": {},
   "outputs": [],
   "source": [
    "# Reorder chromosomes to match order in CSV file, which matches Griffiths TrR_v5 assembly\n",
    "chromosome_order = TrR_v6_chromosomes['TrR_v6_chromosome_name'].tolist()\n",
    "all_chromosomal_records_revComp_ordered = {chrom : all_chromosomal_records_revComp[chrom] for chrom in chromosome_order if chrom in all_chromosomal_records_revComp}\n",
    "all_chromosomal_records_revComp_ordered"
   ]
  },
  {
   "cell_type": "markdown",
   "id": "31431bf5",
   "metadata": {},
   "outputs": [],
   "source": [
    "## Step 3: Add organellar sequences and write file"
   ]
  },
  {
   "cell_type": "code",
   "execution_count": 9,
   "id": "75c4aa50",
   "metadata": {},
   "outputs": [],
   "source": [
    "# Hapltoypes and scaffold names for organelles taken from best BLAST hits of entire plastid or COI (for Mitochondria)\n",
    "# Hits were identical between haplotypes for plastid, but Pall 1 had longer assembly for Mitochondria\n",
    "plastid_record = get_organellar_scaffolds(occ1_fasta, 'Scaffold_27__1_contigs__length_126578', 'Plastid')\n",
    "mitochondrial_record = get_organellar_scaffolds(pall1_fasta, 'Scaffold_15__1_contigs__length_370591', 'Mitochondria')\n",
    "\n",
    "# Adde records to end of dictionary\n",
    "haploid_reference_genome = all_chromosomal_records_revComp_ordered | plastid_record | mitochondrial_record\n",
    "haploid_reference_genome"
   ]
  },
  {
   "cell_type": "code",
   "execution_count": 10,
   "id": "15f8abf7",
   "metadata": {},
   "outputs": [],
   "source": [
    "# Write fasta\n",
    "with open(haploid_reference, 'w') as fout:\n",
    "    for chrom, seq in haploid_reference_genome.items():\n",
    "        fout.write(f'>{chrom}\\n{str(seq)}\\n')"
   ]
  }
 ],
 "metadata": {
  "kernelspec": {
   "display_name": "Python 3 (ipykernel)",
   "language": "python",
   "name": "python3"
  },
  "language_info": {
   "codemirror_mode": {
    "name": "ipython",
    "version": 3
   },
   "file_extension": ".py",
   "mimetype": "text/x-python",
   "name": "python",
   "nbconvert_exporter": "python",
   "pygments_lexer": "ipython3",
   "version": "3.9.13"
  }
 },
 "nbformat": 4,
 "nbformat_minor": 5
}
