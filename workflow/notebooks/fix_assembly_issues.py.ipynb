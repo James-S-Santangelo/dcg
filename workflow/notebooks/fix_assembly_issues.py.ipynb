{
 "cells": [
  {
   "cell_type": "markdown",
   "id": "d383bc24",
   "metadata": {},
   "outputs": [],
   "source": [
    "# Fixing gaps in Dovetail-assembled haplotype fastas\n",
    "\n",
    "Pairwise dotplots of haplotypes revealed a few minor gaps in some of the chromosomal scaffolds that could likely be filled by currently unplaced scaffolds. These gaps could not be filled by the assembler since they seem to occur in large repetitive regions, which likely have little PacBio and Hi-C read support. However, complementary haplotype mapping (i.e., using `minimap2` + visualization using dotplots) helped identify the missing pieces and where they should be placed. \n",
    "\n",
    "The general approach to filling the gaps is as follows:\n",
    "\n",
    "1. Identify the gapped chromosome and the scaffold that fills the gap using the dotplots\n",
    "2. Load the AGP file for the gapped chromosome, which includes the coordinates for the gap. Dovetail's AGP files only have a single gap where the scaffold could be placed, so this makes our life easier.\n",
    "3. Place the missing scaffold in the middle of the string of 'n' currently being used to represent the chromosome gap. Fill in 100 n's on either side of the inserted scaffold to be consistent with the number of n's inserted by Dovetail's pipeline.\n",
    "4. Write a new AGP file using a script written by the Juicebox developers (note: this will be done in a separate Snakemake rule)"
   ]
  },
  {
   "cell_type": "markdown",
   "id": "1939b0b9",
   "metadata": {},
   "outputs": [],
   "source": [
    "## Setup"
   ]
  },
  {
   "cell_type": "code",
   "execution_count": 2,
   "id": "fa05fb1c",
   "metadata": {},
   "outputs": [],
   "source": [
    "# Load modules\n",
    "import pandas as pd\n",
    "from Bio import SeqIO"
   ]
  },
  {
   "cell_type": "markdown",
   "id": "63e6f341",
   "metadata": {},
   "outputs": [],
   "source": [
    "### Functions"
   ]
  },
  {
   "cell_type": "code",
   "execution_count": 3,
   "id": "f2b0dc36",
   "metadata": {},
   "outputs": [],
   "source": [
    "def write_fasta(record_dict, fasta_out):\n",
    "    with open(fasta_out, 'w') as fout:\n",
    "        for scaff, rec in record_dict.items():\n",
    "            fout.write(f\">{scaff}\\n{rec.seq}\\n\")"
   ]
  },
  {
   "cell_type": "markdown",
   "id": "04665993",
   "metadata": {},
   "outputs": [],
   "source": [
    "### Inputs and outputs\n",
    "\n",
    "#### Inputs"
   ]
  },
  {
   "cell_type": "code",
   "execution_count": 4,
   "id": "6d09d3f3",
   "metadata": {},
   "outputs": [],
   "source": [
    "# AGP Files\n",
    "names = ['object', 'object_beg', 'object_end', 'part_number', 'component_type', \n",
    "         'component_id', 'gap_type', 'linkage', 'orientation']\n",
    "occ1_agp = pd.read_csv(snakemake.input[0], delimiter='\\t', names=names, skiprows=2)\n",
    "occ2_agp = pd.read_csv(snakemake.input[1], delimiter='\\t', names=names, skiprows=2)\n",
    "pall1_agp = pd.read_csv(snakemake.input[2], delimiter='\\t', names=names, skiprows=2)\n",
    "pall2_agp = pd.read_csv(snakemake.input[3], delimiter='\\t', names=names, skiprows=2)\n",
    "\n",
    "# Assembled Dovetail haplotype fastas. Load as sequence records dictionary\n",
    "occ1_records_dict = SeqIO.to_dict(SeqIO.parse(snakemake.input[4], 'fasta'))\n",
    "occ2_records_dict = SeqIO.to_dict(SeqIO.parse(snakemake.input[5], 'fasta'))\n",
    "pall1_records_dict = SeqIO.to_dict(SeqIO.parse(snakemake.input[6], 'fasta'))\n",
    "pall2_records_dict = SeqIO.to_dict(SeqIO.parse(snakemake.input[7], 'fasta'))"
   ]
  },
  {
   "cell_type": "markdown",
   "id": "9cf36de2",
   "metadata": {},
   "outputs": [],
   "source": [
    "#### Outputs"
   ]
  },
  {
   "cell_type": "code",
   "execution_count": 5,
   "id": "f918a589",
   "metadata": {},
   "outputs": [],
   "source": [
    "occ1_fasta_out = snakemake.output[0] \n",
    "occ2_fasta_out = snakemake.output[1] \n",
    "pall1_fasta_out = snakemake.output[2] \n",
    "pall2_fasta_out = snakemake.output[3] "
   ]
  },
  {
   "cell_type": "markdown",
   "id": "ea033fca",
   "metadata": {},
   "outputs": [],
   "source": [
    "## Occ1 Haplotype\n",
    "\n",
    "### Issue 1: Missing chunk in middle of Occ1_S2\n",
    "\n",
    "Dotplot using Occ2 as the query and Occ1 as the target suggests that the gap in the middle of Occ1_S2 ould be filled by Occ1_S9."
   ]
  },
  {
   "cell_type": "code",
   "execution_count": 6,
   "id": "966dcfea",
   "metadata": {},
   "outputs": [],
   "source": [
    "# Load AGP file for Occ1\n",
    "occ1_S2_agp = occ1_agp[occ1_agp[\"object\"].str.contains(\"Scaffold_2_\")]\n",
    "occ1_S2_agp"
   ]
  },
  {
   "cell_type": "code",
   "execution_count": 7,
   "id": "cd7cbe04",
   "metadata": {},
   "outputs": [],
   "source": [
    "# Coordinates of gap in chromosome\n",
    "# Subtract 1 from start position since Python is 0-based and AGP is 1-based\n",
    "occ1_S2_gapStart = int(occ1_S2_agp[occ1_S2_agp['component_type'] == 'U']['object_beg'] - 1)\n",
    "occ1_S2_gapEnd = int(occ1_S2_agp[occ1_S2_agp['component_type'] == 'U']['object_beg'])\n",
    "occ1_S2_gapMid = occ1_S2_gapStart + 50  # Since always 100 n's"
   ]
  },
  {
   "cell_type": "code",
   "execution_count": 8,
   "id": "788f9c2b",
   "metadata": {},
   "outputs": [],
   "source": [
    "# Get relevant records\n",
    "occ1_S2_record = occ1_records_dict['Scaffold_2__2_contigs__length_42515810']\n",
    "occ1_S9_record = occ1_records_dict['Scaffold_9__1_contigs__length_12292107']"
   ]
  },
  {
   "cell_type": "code",
   "execution_count": 9,
   "id": "adab58a6",
   "metadata": {},
   "outputs": [],
   "source": [
    "# Assemble new sequence and replace Occ1_S2 record sequence in dict\n",
    "occ1_S2_newSeq = occ1_S2_record.seq[:occ1_S2_gapMid] + (50*'n') + occ1_S9_record.seq + (50*'n') + occ1_S2_record.seq[occ1_S2_gapMid:]\n",
    "occ1_records_dict[occ1_S2_record.id].seq = occ1_S2_newSeq\n",
    "del occ1_records_dict[occ1_S9_record.id] # Remove scaffold since now placed"
   ]
  },
  {
   "cell_type": "markdown",
   "id": "e4ac5c7a",
   "metadata": {},
   "outputs": [],
   "source": [
    "### Issue 2: Missing chunk in the middle of Occ1_S8\n",
    "\n",
    "Dotplot using Occ2 as the query and Occ1 as the target suggests that the gap in the middle of Occ1_S8 ould be filled by Occ1_S10."
   ]
  },
  {
   "cell_type": "code",
   "execution_count": 10,
   "id": "2920b865",
   "metadata": {},
   "outputs": [],
   "source": [
    "# Filter Occ1 AGP for Scaffold 8\n",
    "occ1_S8_agp = occ1_agp[occ1_agp[\"object\"].str.contains(\"Scaffold_8_\")]\n",
    "occ1_S8_agp"
   ]
  },
  {
   "cell_type": "code",
   "execution_count": 11,
   "id": "3a758a2e",
   "metadata": {},
   "outputs": [],
   "source": [
    "# Coordinates of gap in chromosome\n",
    "# Subtract 1 from start position since Python is 0-based and AGP is 1-based\n",
    "occ1_S8_gapStart = int(occ1_S8_agp[occ1_S8_agp['component_type'] == 'U']['object_beg'] - 1)\n",
    "occ1_S8_gapEnd = int(occ1_S8_agp[occ1_S8_agp['component_type'] == 'U']['object_beg'])\n",
    "occ1_S8_gapMid = occ1_S8_gapStart + 50  # Since always 100 n's"
   ]
  },
  {
   "cell_type": "code",
   "execution_count": 12,
   "id": "2d30a061",
   "metadata": {},
   "outputs": [],
   "source": [
    "# Get relevant records\n",
    "occ1_S8_record = occ1_records_dict['Scaffold_8__2_contigs__length_53096940']\n",
    "occ1_S10_record = occ1_records_dict['Scaffold_10__1_contigs__length_6038839']"
   ]
  },
  {
   "cell_type": "code",
   "execution_count": 13,
   "id": "2021adff",
   "metadata": {},
   "outputs": [],
   "source": [
    "# Assemble new sequence and replace Occ1_S8 record sequence in dict\n",
    "occ1_S8_newSeq = occ1_S8_record.seq[:occ1_S8_gapMid] + (50*'n') + occ1_S10_record.seq + (50*'n') + occ1_S8_record.seq[occ1_S8_gapMid:]\n",
    "occ1_records_dict[occ1_S8_record.id].seq = occ1_S8_newSeq\n",
    "del occ1_records_dict[occ1_S10_record.id] # Remove scaffold since now placed"
   ]
  },
  {
   "cell_type": "markdown",
   "id": "435de573",
   "metadata": {},
   "outputs": [],
   "source": [
    "### Issue 3: Missing chunk at end of Occ1_S3\n",
    "\n",
    "Dotplot using Occ1 as the query and Occ2 as the target suggests that Occ1_S3 is missing a bit at the end (mapping ends prematurely along Occ2_S3). Dotplot of Pall1 against Occ2 suggests that Pall1_S9 is complementary to the beginning of Occ2_S3, which is the same as the missing bit from Occ1_S3 since Occ1_S3 and Occ2_S3 are in reverse orientation. Therefore, Pall1_S9 needs to be reverse compelemted and placed at the end of Occ1_S3."
   ]
  },
  {
   "cell_type": "code",
   "execution_count": 14,
   "id": "9b026d36",
   "metadata": {
    "scrolled": true
   },
   "outputs": [],
   "source": [
    "# Load AGP file for Occ1\n",
    "occ1_S3_agp = occ1_agp[occ1_agp[\"object\"].str.contains(\"Scaffold_3_\")]\n",
    "occ1_S3_agp"
   ]
  },
  {
   "cell_type": "code",
   "execution_count": 15,
   "id": "6b0ff12e",
   "metadata": {},
   "outputs": [],
   "source": [
    "# Get relevant records\n",
    "occ1_S3_record = occ1_records_dict['Scaffold_3__2_contigs__length_53941476']\n",
    "pall1_S9_record = pall1_records_dict['Scaffold_9__1_contigs__length_10370967']"
   ]
  },
  {
   "cell_type": "code",
   "execution_count": 16,
   "id": "accf912c",
   "metadata": {},
   "outputs": [],
   "source": [
    "# Assemble new sequence and replace pall2_S7 record sequence in dict\n",
    "# Pall1_S9 needs to be reverse complemented\n",
    "pall1_S9_record_revComp = pall1_S9_record.reverse_complement()\n",
    "occ1_S3_newSeq = occ1_S3_record.seq + (100*'n') + pall1_S9_record_revComp.seq\n",
    "occ1_records_dict[occ1_S3_record.id].seq = occ1_S3_newSeq\n",
    "del pall1_records_dict[pall1_S9_record.id] # Remove scaffold since now placed"
   ]
  },
  {
   "cell_type": "markdown",
   "id": "c9c3468c",
   "metadata": {},
   "outputs": [],
   "source": [
    "### Issue 4: Missing chunk at end of Occ1_S4\n",
    "\n",
    "Original dotplot with Pall and Occ Hap1's mapped against all Hap2's suggested an extra fragment at at the end of Pall1_S4 that should be reverse-complemented and added to the end of Occ1_S4"
   ]
  },
  {
   "cell_type": "code",
   "execution_count": 19,
   "id": "d747263e",
   "metadata": {},
   "outputs": [],
   "source": [
    "# Get relevant contigs\n",
    "pall1_S4_record = pall1_records_dict['Scaffold_4__1_contigs__length_63763842']\n",
    "occ1_S4_record = occ1_records_dict['Scaffold_4__2_contigs__length_59527430']"
   ]
  },
  {
   "cell_type": "code",
   "execution_count": 20,
   "id": "276b2034",
   "metadata": {},
   "outputs": [],
   "source": [
    "# Where the telomeric duplication starts\n",
    "# Obtained from the PAF file where the pall1S4 mapping jumps back to mapping at the end of Pall1S5\n",
    "pall1S4_dupStart = 58113889 - 1\n",
    "\n",
    "# Get duplocated sequence and create new pall1S4 sequence without duplication\n",
    "pall1_S4_dupSeq = pall1_S4_record.seq[pall1S4_dupStart:]\n",
    "pall1_S4_newSeq = pall1_S4_record.seq[:pall1S4_dupStart]"
   ]
  },
  {
   "cell_type": "code",
   "execution_count": 21,
   "id": "da5f5400",
   "metadata": {},
   "outputs": [],
   "source": [
    "occ1_S4_newSeq = occ1_S4_record.seq + (100*'n') + pall1_S4_dupSeq.reverse_complement()\n",
    "occ1_records_dict[occ1_S4_record.id].seq = occ1_S4_newSeq  # Replace Occ1_S4 \n",
    "pall1_records_dict[pall1_S4_record.id].seq = pall1_S4_newSeq # Replace pall1_S4"
   ]
  },
  {
   "cell_type": "markdown",
   "id": "5ce3ad28",
   "metadata": {},
   "outputs": [],
   "source": [
    "## Occ2 Haplotype\n",
    "\n",
    "No revisions to this haplotype are necessary. However, I'll still load and re-write the fasta. "
   ]
  },
  {
   "cell_type": "markdown",
   "id": "64ee4532",
   "metadata": {},
   "outputs": [],
   "source": [
    "## Pall1 Haplotype\n",
    "\n",
    "Pall1_S9 was removed from Pall1 sequence records above. This is the only change to this haplotype fasta\n",
    "\n",
    "## Pall2 Haplotype\n",
    "\n",
    "### Issue 4: Missing chung in middle of Pall2_S7\n",
    "\n",
    "Dotplot using Pall1 as the query and Pall2 as the target suggests that the gap in the middle of Pall2_S7 could be filled by Pall2_S9, though Pall2_S9 needs to be reverse complemented"
   ]
  },
  {
   "cell_type": "code",
   "execution_count": 22,
   "id": "0010a65b",
   "metadata": {},
   "outputs": [],
   "source": [
    "# Load AGP file for Pall2\n",
    "pall2_S7_agp = pall2_agp[pall2_agp[\"object\"].str.contains(\"Scaffold_7_\")]\n",
    "pall2_S7_agp"
   ]
  },
  {
   "cell_type": "code",
   "execution_count": 23,
   "id": "4f82c859",
   "metadata": {},
   "outputs": [],
   "source": [
    "# Coordinates of gap in chromosome\n",
    "# Subtract 1 from start position since Python is 0-based and AGP is 1-based\n",
    "pall2_S7_gapStart = int(pall2_S7_agp[pall2_S7_agp['component_type'] == 'U']['object_beg'] - 1)\n",
    "pall2_S7_gapEnd = int(pall2_S7_agp[pall2_S7_agp['component_type'] == 'U']['object_beg'])\n",
    "pall2_S7_gapMid = pall2_S7_gapStart + 50  # Since always 100 n's"
   ]
  },
  {
   "cell_type": "code",
   "execution_count": 24,
   "id": "54152ffe",
   "metadata": {},
   "outputs": [],
   "source": [
    "# Get relevant records\n",
    "pall2_S7_record = pall2_records_dict['Scaffold_7__2_contigs__length_55122380']\n",
    "pall2_S9_record = pall2_records_dict['Scaffold_9__1_contigs__length_11749539']"
   ]
  },
  {
   "cell_type": "code",
   "execution_count": 25,
   "id": "e118b43f",
   "metadata": {},
   "outputs": [],
   "source": [
    "# Assemble new sequence and replace pall2_S7 record sequence in dict\n",
    "# Pall2_S9 needs to be reverse complemented\n",
    "pall2_S9_record_revComp = pall2_S9_record.reverse_complement()\n",
    "pall2_S7_newSeq = pall2_S7_record.seq[:pall2_S7_gapMid] + (50*'n') + pall2_S9_record_revComp.seq + (50*'n') + pall2_S7_record.seq[pall2_S7_gapMid:]\n",
    "pall2_records_dict[pall2_S7_record.id].seq = pall2_S7_newSeq\n",
    "del pall2_records_dict[pall2_S9_record.id] # Remove record since now placed"
   ]
  },
  {
   "cell_type": "markdown",
   "id": "397167f1",
   "metadata": {},
   "outputs": [],
   "source": [
    "## Write fastas"
   ]
  },
  {
   "cell_type": "code",
   "execution_count": 27,
   "id": "996837ff",
   "metadata": {},
   "outputs": [],
   "source": [
    "write_fasta(occ1_records_dict, occ1_fasta_out)\n",
    "write_fasta(occ2_records_dict, occ2_fasta_out)\n",
    "write_fasta(pall1_records_dict, pall1_fasta_out)\n",
    "write_fasta(pall2_records_dict, pall2_fasta_out)"
   ]
  }
 ],
 "metadata": {
  "kernelspec": {
   "display_name": "Python 3 (ipykernel)",
   "language": "python",
   "name": "python3"
  },
  "language_info": {
   "codemirror_mode": {
    "name": "ipython",
    "version": 3
   },
   "file_extension": ".py",
   "mimetype": "text/x-python",
   "name": "python",
   "nbconvert_exporter": "python",
   "pygments_lexer": "ipython3",
   "version": "3.9.13"
  }
 },
 "nbformat": 4,
 "nbformat_minor": 5
}
