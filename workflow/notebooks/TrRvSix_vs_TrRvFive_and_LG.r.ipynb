{
 "cells": [
  {
   "cell_type": "markdown",
   "id": "906a8cad",
   "metadata": {},
   "outputs": [],
   "source": [
    "# Setup"
   ]
  },
  {
   "cell_type": "code",
   "execution_count": 21,
   "id": "2261d8d3",
   "metadata": {},
   "outputs": [],
   "source": [
    "# Load required packages\n",
    "library(tidyverse)\n",
    "library(broom)"
   ]
  },
  {
   "cell_type": "markdown",
   "id": "7b1567dd",
   "metadata": {},
   "outputs": [],
   "source": [
    "## Wrangle inputs and outputs from Snakemake"
   ]
  },
  {
   "cell_type": "code",
   "execution_count": 3,
   "id": "e7259f63",
   "metadata": {},
   "outputs": [],
   "source": [
    "# Inputs\n",
    "markers_blast_paths <- snakemake@input[1:8] # We want this to stay as list\n",
    "DG_names_path <- snakemake@input[[9]] # Remaining inuts as character vectors\n",
    "SG_names_path <- snakemake@input[[10]]\n",
    "DG_genMap_path <- snakemake@input[[11]]\n",
    "SG_genMap_path <- snakemake@input[[12]]\n",
    "TrR_v5_chromosomes_path <- snakemake@input[[13]]\n",
    "occ1_paf_path <- snakemake@input[[14]]\n",
    "occ2_paf_path <- snakemake@input[[15]]\n",
    "pall1_paf_path <- snakemake@input[[16]]\n",
    "pall2_paf_path <- snakemake@input[[17]]\n",
    "\n",
    "# Outputs\n",
    "BLASThits_LGxSG_plot_path <- snakemake@output[[1]]\n",
    "scaffoldLengths_path <- snakemake@output[[2]]\n",
    "longestScaffolds_path <- snakemake@output[[3]]\n",
    "chrom_mapping_path <- snakemake@output[[4]]\n",
    "chrom_orientations_plot_path <- snakemake@output[[5]]\n",
    "chrom_orientations_df_path <- snakemake@output[[6]]"
   ]
  },
  {
   "cell_type": "markdown",
   "id": "293026ea",
   "metadata": {},
   "outputs": [],
   "source": [
    "## Functions\n",
    "\n",
    "Load custom functions used throughout notebook"
   ]
  },
  {
   "cell_type": "code",
   "execution_count": 4,
   "id": "fb94395f",
   "metadata": {},
   "outputs": [],
   "source": [
    "# Function to load results of BLASTING linkage markers against the haplotypes\n",
    "load_marker_blast <- function(path){\n",
    "  \n",
    "    path_split <- str_split(basename(path), pattern = '_', simplify = TRUE)\n",
    "    marker_pop <- path_split[2][1]\n",
    "    sg_hap <- path_split[1][1]\n",
    "    sg <- str_extract(sg_hap, pattern = 'occ|pall')\n",
    "    hap <- str_extract(sg_hap, pattern = '1|2')\n",
    "\n",
    "    # Column names\n",
    "    cols <- c('qseqid', 'sseqid', 'pident', 'length', 'mismatch', 'gapopen', \n",
    "              'qstart', 'qend', 'qlen', 'sstart', 'send', 'slen', 'evalue', \n",
    "              'bitscore', 'qcovs', 'qcovhsp')\n",
    "\n",
    "    # Read in BLAST results\n",
    "    markers_blast <- read.delim(path, sep = '\\t', col.names = cols) %>%\n",
    "        mutate(qseqid = as.character(qseqid)) %>% \n",
    "        mutate(orig_scaff_name = sseqid,\n",
    "               sseqid = paste0(sprintf(\"%s%s_\", sg, hap), str_extract(sseqid, pattern = 'Scaffold_\\\\d+'))) %>% \n",
    "        mutate(pop = marker_pop,\n",
    "               sg = sg,\n",
    "               hap = case_when(hap == 1 ~ 'One',\n",
    "                               TRUE ~ 'Two'))\n",
    "    \n",
    "    return(markers_blast)\n",
    "}\n",
    "\n",
    "# Load and filter Minimap2 PAF file\n",
    "load_filter_paf <- function(path, sg, hap, min_size){\n",
    "    \n",
    "    paf <- suppressMessages(read_delim(path, col_names = FALSE, delim = '\\t')) %>%\n",
    "        dplyr::select(X1:X12)\n",
    "    \n",
    "    names <- longestScaffolds_byLinkageGroup %>% \n",
    "        filter(subgenome == sg & haplotype == hap) %>% \n",
    "        pull(original_scaffold_name)\n",
    "\n",
    "    paf_mod <- paf %>%\n",
    "        filter(X12 == 60 & X11 >= min_size) %>%\n",
    "        filter(X6 %in% names)\n",
    "    \n",
    "    return(paf_mod)\n",
    "}"
   ]
  },
  {
   "cell_type": "markdown",
   "id": "858a28b0",
   "metadata": {},
   "outputs": [],
   "source": [
    "# Linkage group analysis\n",
    "\n",
    "1. BLASTed Markers from Olsen _et al._ DG and SG mapping populations to all 4 Dovetail haplotypes (2 haplotypes per subgenome)\n",
    "2. The goal is to see which chromosomes in the new assembly correspond to which linkage groups, and later which chromosomes these represent in the Griffiths TrR_v5 assembly."
   ]
  },
  {
   "cell_type": "code",
   "execution_count": 5,
   "id": "e6b58b5e",
   "metadata": {},
   "outputs": [],
   "source": [
    "# Load results from BLAST searches\n",
    "genMap_df <- purrr::map_dfr(markers_blast_paths, load_marker_blast)\n",
    "\n",
    "# Load dataframes with names of markers.\n",
    "DG_names <- read.csv(DG_names_path, col.names = c('qseqid', 'name')) %>% mutate(pop = 'DG')\n",
    "SG_names <- read.csv(SG_names_path, col.names = c('qseqid', 'name')) %>% mutate(pop = 'SG')\n",
    "all_names <- bind_rows(SG_names, DG_names) %>% mutate(qseqid = as.character(qseqid))\n",
    "\n",
    "# Load dataframes with genetic positions of markers. \n",
    "DG_genMap <- read.csv(DG_genMap_path, col.names = c('name', 'LG', 'cM')) %>% mutate(pop = 'DG')\n",
    "SG_genMap <- read.csv(SG_genMap_path, col.names = c('name', 'LG', 'cM')) %>% mutate(pop = 'SG')\n",
    "all_genMap <- bind_rows(SG_genMap, DG_genMap)\n",
    "\n",
    "# Join all dataframes\n",
    "genMap_df_mod <- genMap_df %>% \n",
    "    left_join(., all_names, by = c('qseqid','pop')) %>% \n",
    "    left_join(., all_genMap, by = c('name', 'pop'))\n",
    "head(genMap_df_mod)"
   ]
  },
  {
   "cell_type": "markdown",
   "id": "4ad1d1c8",
   "metadata": {},
   "outputs": [],
   "source": [
    "## Step 1: Map LGs to subgenomes \n",
    "\n",
    "Using the BLAST results, let's figure out which linkage groups correspond to the _T. occidental_ and _T. pallescens_ subgenomes."
   ]
  },
  {
   "cell_type": "code",
   "execution_count": 6,
   "id": "ae32f38a",
   "metadata": {},
   "outputs": [],
   "source": [
    "BLASThits_LGxSG_plot <- genMap_df_mod %>% \n",
    "    group_by(name, sg, hap) %>% \n",
    "    \n",
    "    # For each marker, subgenome, and haplotype, get only long markers with high % ident. \n",
    "    # Filter for best alignment \n",
    "    filter(pident >= 95 & length > 175) %>%\n",
    "    filter(evalue == min(evalue)) %>%\n",
    "    dplyr::select(LG, sseqid, pident, length, evalue, bitscore, sg, hap, name) %>%\n",
    "    arrange(LG, name) %>%\n",
    "    \n",
    "    # Remove duplicates. Some top alignments have multiple start positions (but same cM)\n",
    "    distinct() %>%\n",
    "    ungroup() %>%\n",
    "\n",
    "    # Get best alignment for each marker\n",
    "    group_by(name) %>%\n",
    "    filter(evalue == min(evalue)) %>%\n",
    "    ungroup() %>%\n",
    "    \n",
    "    # Plot number of markers on each LG by subgenome\n",
    "    group_by(LG, sg) %>% \n",
    "    summarise(n = n()) %>%\n",
    "    ggplot(., aes(x = LG, y = n, fill = sg)) +\n",
    "        geom_bar(stat = 'identity', position = 'dodge') +\n",
    "        scale_x_continuous(breaks = seq(1, 16, 1)) +\n",
    "        xlab('Linkage group') + ylab('Number of markers with top BLAST hit') +\n",
    "        theme_classic() +\n",
    "        theme(axis.title = element_text(size = 17),\n",
    "              axis.text = element_text(size = 15),\n",
    "              legend.position = 'top',\n",
    "              legend.key.size = unit(1, 'cm'),\n",
    "              legend.title = element_text(size = 17),\n",
    "              legend.text = element_text(size=15))\n",
    "\n",
    "BLASThits_LGxSG_plot\n",
    "ggsave(filename = BLASThits_LGxSG_plot_path, plot = BLASThits_LGxSG_plot, \n",
    "       device = 'pdf', width = 8, height = 8, units = 'in', dpi = 300)"
   ]
  },
  {
   "cell_type": "markdown",
   "id": "7e5fa91a",
   "metadata": {},
   "outputs": [],
   "source": [
    "## Step 2: Map LGs to scaffolds in each subgenome\n",
    "\n",
    "1. Generate set of filtered markers for use in figuring out which scaffolds correspond to each linkage group in each subgenome. \n",
    "2. Identify subgenome scaffolds in corresponding to each LG\n",
    "3. Get longest scaffold for each linkage group. These will make up the chromosomes in our haploid reference assembly\n",
    "    - One exception is LG 2, which contains Ac. Because the haplotype carrying a functional Ac is much shorter (~14 Mb), we will recombine the longer haplotype onto the shorter haplotype in a larger bit of unique sequence upstream of Ac."
   ]
  },
  {
   "cell_type": "markdown",
   "id": "7038277e",
   "metadata": {},
   "outputs": [],
   "source": [
    "### Step 2a: Filter markers"
   ]
  },
  {
   "cell_type": "code",
   "execution_count": 7,
   "id": "195d079f",
   "metadata": {},
   "outputs": [],
   "source": [
    "filtered_markers <- genMap_df_mod %>% \n",
    "    group_by(name, sg, hap) %>% \n",
    "    \n",
    "    # For each marker, subgenome, and haplotype, get only long alignments with high % ident. \n",
    "    # Filter for best alignment \n",
    "    filter(pident >= 95 & length > 175) %>%\n",
    "    filter(evalue == min(evalue)) %>%\n",
    "    dplyr::select(LG, sseqid, pident, length, evalue, bitscore, sg, hap, name, slen) %>%\n",
    "    arrange(LG, name) %>%\n",
    "    \n",
    "    # Remove duplicates. Some top alignments have multiple start positions (but same cM)\n",
    "    distinct() %>%\n",
    "    ungroup() %>%\n",
    "    \n",
    "    # Remove markers mapped to wrong subgenome\n",
    "    # This is based on linkage group analysis above\n",
    "    mutate(to_filter = case_when(LG %in% 1:8 & sg == 'occ' ~ 0,\n",
    "                                 LG %in% 9:16 & sg == 'pall' ~ 0,\n",
    "                                 TRUE ~ 1)) %>%\n",
    "    filter(to_filter == 0) %>%\n",
    "    mutate(scaff = str_extract(sseqid, pattern = 'Scaffold_\\\\d+'))"
   ]
  },
  {
   "cell_type": "markdown",
   "id": "cadd4fd1",
   "metadata": {},
   "outputs": [],
   "source": [
    "### Step 2b: Identify subgenome scaffolds corresponding to each LG"
   ]
  },
  {
   "cell_type": "code",
   "execution_count": 8,
   "id": "022e3d64",
   "metadata": {},
   "outputs": [],
   "source": [
    "# Gereate DF with TrRv6 scaffolds corresponding to each LG. Add scaffold lengths\n",
    "scaffolds_bySubgenome_byHaplotype <- filtered_markers %>%\n",
    "    group_by(LG, sg, hap, scaff) %>%\n",
    "    summarise(n = n()) %>%\n",
    "    ungroup() %>%\n",
    "    group_by(LG, sg, hap) %>%\n",
    "    filter(n == max(n)) %>%\n",
    "    arrange(LG, scaff) %>%\n",
    "    left_join(., filtered_markers %>% dplyr::select(sg, hap, scaff, slen) %>% distinct(), \n",
    "              by = c('sg', 'hap', 'scaff'))\n",
    "\n",
    "write_csv(scaffolds_bySubgenome_byHaplotype, scaffoldLengths_path)\n",
    "head(scaffolds_bySubgenome_byHaplotype)"
   ]
  },
  {
   "cell_type": "markdown",
   "id": "a0f1879c",
   "metadata": {},
   "outputs": [],
   "source": [
    "### Step 2c: Get longest scaffold for each linkage group"
   ]
  },
  {
   "cell_type": "code",
   "execution_count": 9,
   "id": "57b52c29",
   "metadata": {},
   "outputs": [],
   "source": [
    "# Get original scaffold names\n",
    "orig_scaff_names <- genMap_df_mod %>%\n",
    "    mutate(scaff = str_extract(sseqid, pattern = 'Scaffold_\\\\d+')) %>%\n",
    "    dplyr::select(sg, hap, scaff, orig_scaff_name) %>%\n",
    "    distinct()\n",
    "head(orig_scaff_names)"
   ]
  },
  {
   "cell_type": "code",
   "execution_count": 10,
   "id": "72e8e19e",
   "metadata": {},
   "outputs": [],
   "source": [
    "# Get longest scaffold for each linkage group. \n",
    "# These will make up the chromosomes in our genome\n",
    "# The only exception will be LG 2, which contains Ac\n",
    "longestScaffolds_byLinkageGroup <- scaffolds_bySubgenome_byHaplotype %>%\n",
    "    ungroup() %>%\n",
    "    group_by(LG) %>%\n",
    "\n",
    "    # Keep shortest scaffold for LG 2 since this contains functional Ac locus\n",
    "    # Use longest scaffold for all other LGs\n",
    "    filter(case_when(LG == 2 ~ slen == min(slen),\n",
    "                     TRUE ~ slen == max(slen))) %>%\n",
    "\n",
    "    left_join(., orig_scaff_names, by = c('sg', 'hap', 'scaff')) %>%\n",
    "    dplyr::select(-n, -scaff) %>%\n",
    "    rename('subgenome' = 'sg',\n",
    "           'haplotype' = 'hap',\n",
    "           'length' = 'slen',\n",
    "           'original_scaffold_name'= 'orig_scaff_name') %>%\n",
    "    ungroup()\n",
    "\n",
    "write_csv(longestScaffolds_byLinkageGroup, longestScaffolds_path)\n",
    "head(longestScaffolds_byLinkageGroup)"
   ]
  },
  {
   "cell_type": "markdown",
   "id": "35b1a6b7",
   "metadata": {},
   "outputs": [],
   "source": [
    "## Step 3: Map v5 scaffolds to v6 chromosomes and rename"
   ]
  },
  {
   "cell_type": "code",
   "execution_count": 11,
   "id": "59c88ae0",
   "metadata": {
    "scrolled": true
   },
   "outputs": [],
   "source": [
    "# Scaffolds for each LG\n",
    "# See Previous assembly https://www.ncbi.nlm.nih.gov/data-hub/genome/GCA_005869975.1/\n",
    "# See Olsen et al. paper https://nph.onlinelibrary.wiley.com/doi/10.1111/nph.17654\n",
    "TrR_v5_LGs <- read_csv(TrR_v5_chromosomes_path, show_col_types = F)\n",
    "head(TrR_v5_LGs)"
   ]
  },
  {
   "cell_type": "code",
   "execution_count": 14,
   "id": "acafde86",
   "metadata": {},
   "outputs": [],
   "source": [
    "# Create file with new TrRv6 chromosome names, original scaffold names and corresponding TrRv5 scaffold name\n",
    "TrR_v6_chromosomes <- longestScaffolds_byLinkageGroup %>% \n",
    "    mutate(LG = LG) %>%\n",
    "    left_join(., TrR_v5_LGs, by = 'LG') %>%\n",
    "    arrange(TrR_v5_scaff_name) %>%\n",
    "    mutate(subgenome = str_to_title(subgenome),\n",
    "           chrom_num = sprintf(\"%02d\",rep(row_number(), each=2, length.out = n())),\n",
    "           TrR_v6_chromosome_name = paste0('Chr', chrom_num, '_', subgenome)) %>%\n",
    "    dplyr::select(LG, TrR_v5_scaff_name, TrR_v6_chromosome_name, subgenome, haplotype, length, original_scaffold_name)\n",
    "write_csv(TrR_v6_chromosomes, chrom_mapping_path)\n",
    "TrR_v6_chromosomes"
   ]
  },
  {
   "cell_type": "markdown",
   "id": "94033b87",
   "metadata": {},
   "outputs": [],
   "source": [
    "## Step 4: Look at orientation of v6 chromosomes against v5 scaffolds\n",
    "\n",
    "1. Mapped TrR_v6 Dovetail chromosomes against scaffolds from Griffiths TrR_v6 scaffolds using `minimap2`\n",
    "2. Goal is to have the orientation of TrR_v6 scffolds match the orientation of the existing TrR_v5 scaffolds\n",
    "    - Will use correlation in `minimap2` alignment positions to get the chromosomes that need to be reverse complementd\n",
    "    - Only using alignments with mapping quality of 60, length greater than 10Kb, and where both the query and subject are part of the same linkage group"
   ]
  },
  {
   "cell_type": "code",
   "execution_count": 15,
   "id": "7b5711db",
   "metadata": {},
   "outputs": [],
   "source": [
    "# Load haplotype PAF files\n",
    "# Warnings can be ignored since not using columns where they occur\n",
    "min_size = 10000\n",
    "occ1_paf_filtered <- load_filter_paf(occ1_paf_path, sg = 'occ', hap = 'One', min_size = min_size)\n",
    "occ2_paf_filtered <- load_filter_paf(occ2_paf_path, sg = 'occ', hap = 'Two', min_size = min_size)\n",
    "pall1_paf_filtered <- load_filter_paf(pall1_paf_path, sg = 'pall', hap = 'One', min_size = min_size)\n",
    "pall2_paf_filtered <- load_filter_paf(pall2_paf_path, sg = 'pall', hap = 'Two', min_size = min_size)"
   ]
  },
  {
   "cell_type": "code",
   "execution_count": 16,
   "id": "eed03689",
   "metadata": {},
   "outputs": [],
   "source": [
    "# Combine PAF files\n",
    "all_pafs <- bind_rows(occ1_paf_filtered, occ2_paf_filtered, pall1_paf_filtered, pall2_paf_filtered)"
   ]
  },
  {
   "cell_type": "code",
   "execution_count": 17,
   "id": "e2dc9841",
   "metadata": {},
   "outputs": [],
   "source": [
    "# Create dataframe with \"mapping\" column representing correct v5_v6 pairs\n",
    "chromosome_mappings <- TrR_v6_chromosomes %>%\n",
    "    mutate(mapping = paste(TrR_v5_scaff_name, original_scaffold_name, sep = '_')) %>%\n",
    "    dplyr::select(original_scaffold_name, TrR_v6_chromosome_name, TrR_v6_chromosome_name, mapping)\n",
    "chromosome_mappings"
   ]
  },
  {
   "cell_type": "code",
   "execution_count": 18,
   "id": "0c0027cd",
   "metadata": {},
   "outputs": [],
   "source": [
    "# Filter for v5_v6 mappings part of same LG. Plots alignment start positions by v6 Chromosome\n",
    "chrom_orientations_plot <- all_pafs %>%\n",
    "    rename(\"TrR_v5_scaff_name\" = 'X1',\n",
    "           \"original_scaffold_name\" = 'X6') %>%\n",
    "    mutate(id = paste(TrR_v5_scaff_name, original_scaffold_name, sep = '_')) %>%\n",
    "    left_join(., chromosome_mappings, by = 'original_scaffold_name') %>%\n",
    "    filter(id == mapping) %>%\n",
    "    ggplot(aes(x = X8, y = X3)) +\n",
    "        geom_point(size = 2, color = 'black', fill = 'black') +\n",
    "        geom_smooth(method = 'lm', color = 'blue', size = 1) +\n",
    "        xlab('Dovetail start position') + ylab('Griffiths start position') +\n",
    "        facet_wrap(~TrR_v6_chromosome_name) +\n",
    "        theme_classic() +\n",
    "        theme(axis.title = element_text(size = 17),\n",
    "              axis.text = element_text(size = 15),\n",
    "              axis.text.x = element_text(angle = 45, hjust = 1))\n",
    "\n",
    "chrom_orientations_plot\n",
    "ggsave(filename = chrom_orientations_plot_path, plot = chrom_orientations_plot, \n",
    "       device = 'pdf', width = 12, height = 12, units = 'in', dpi = 300)"
   ]
  },
  {
   "cell_type": "code",
   "execution_count": 42,
   "id": "923bc258",
   "metadata": {},
   "outputs": [],
   "source": [
    "models <- all_pafs %>%\n",
    "    rename(\"TrR_v5_scaff_name\" = 'X1',\n",
    "           \"original_scaffold_name\" = 'X6') %>%\n",
    "    mutate(id = paste(TrR_v5_scaff_name, original_scaffold_name, sep = '_')) %>%\n",
    "    left_join(., chromosome_mappings, by = 'original_scaffold_name') %>%\n",
    "    filter(id == mapping) %>%\n",
    "    dplyr::select(TrR_v6_chromosome_name, X3, X8) %>% \n",
    "    nest_by(TrR_v6_chromosome_name) %>% \n",
    "    mutate(model = list(lm(X3 ~ X8, data = data))) %>%\n",
    "    summarise(tidy(model)) %>% \n",
    "    filter(term == 'X8') %>% \n",
    "    filter(estimate < 0) %>% \n",
    "    dplyr::select(TrR_v6_chromosome_name)\n",
    "models\n",
    "write_csv(models, chrom_orientations_df_path)"
   ]
  },
  {
   "cell_type": "code",
   "execution_count": null,
   "id": "c9746cb7",
   "metadata": {},
   "outputs": [],
   "source": []
  }
 ],
 "metadata": {
  "kernelspec": {
   "display_name": "R",
   "language": "R",
   "name": "default"
  },
  "language_info": {
   "codemirror_mode": "r",
   "file_extension": ".r",
   "mimetype": "text/x-r-source",
   "name": "R",
   "pygments_lexer": "r",
   "version": "4.2.2"
  }
 },
 "nbformat": 4,
 "nbformat_minor": 5
}
