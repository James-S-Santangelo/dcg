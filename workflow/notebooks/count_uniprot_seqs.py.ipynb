{
 "cells": [
  {
   "cell_type": "code",
   "execution_count": 14,
   "id": "5d418e71",
   "metadata": {},
   "outputs": [],
   "source": [
    "import re\n",
    "import collections\n",
    "from Bio import SeqIO"
   ]
  },
  {
   "cell_type": "code",
   "execution_count": 34,
   "id": "72e78a02",
   "metadata": {},
   "outputs": [],
   "source": [
    "sp_counts = {}\n",
    "for record in SeqIO.parse(snakemake.input[0], 'fasta'):\n",
    "    sp = re.search('(?<=OS=)(.*)(?=\\sOX)', record.description, re.IGNORECASE).group(0)\n",
    "    if sp in sp_counts.keys():\n",
    "        sp_counts[sp] += 1\n",
    "    else:\n",
    "        sp_counts[sp] = 1"
   ]
  },
  {
   "cell_type": "code",
   "execution_count": 61,
   "id": "8688eaf7",
   "metadata": {},
   "outputs": [],
   "source": [
    "with open(snakemake.output[0], 'w') as fout:\n",
    "    for k, v in sp_counts.items():\n",
    "        fout.write(f\"{k}\\t{v}\\n\")"
   ]
  },
  {
   "cell_type": "code",
   "execution_count": 59,
   "id": "9acd77e3",
   "metadata": {},
   "outputs": [],
   "source": [
    "gen_counts = {}\n",
    "for sp, count in sp_counts.items():\n",
    "    gen = re.search('^(\\w+)(?=\\s)', sp, re.IGNORECASE)\n",
    "    if not gen:\n",
    "        gen = re.search('^\\[(\\w+)\\](?=\\s)', sp, re.IGNORECASE)\n",
    "    gr = gen.group(0)\n",
    "    if gr in gen_counts.keys():\n",
    "        gen_counts[gr] += count\n",
    "    else:\n",
    "        gen_counts[gr] = count"
   ]
  },
  {
   "cell_type": "code",
   "execution_count": 60,
   "id": "601ba26c",
   "metadata": {},
   "outputs": [],
   "source": [
    "for k, v, in collections.OrderedDict(sorted(gen_counts.items())).items():\n",
    "    print(k, v)"
   ]
  },
  {
   "cell_type": "code",
   "execution_count": null,
   "id": "96d5bfec",
   "metadata": {},
   "outputs": [],
   "source": []
  }
 ],
 "metadata": {
  "kernelspec": {
   "display_name": "Python 3 (ipykernel)",
   "language": "python",
   "name": "python3"
  },
  "language_info": {
   "codemirror_mode": {
    "name": "ipython",
    "version": 3
   },
   "file_extension": ".py",
   "mimetype": "text/x-python",
   "name": "python",
   "nbconvert_exporter": "python",
   "pygments_lexer": "ipython3",
   "version": "3.9.13"
  }
 },
 "nbformat": 4,
 "nbformat_minor": 5
}
